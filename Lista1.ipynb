{
  "nbformat": 4,
  "nbformat_minor": 0,
  "metadata": {
    "colab": {
      "name": "Lista1.ipynb",
      "provenance": [],
      "include_colab_link": true
    },
    "kernelspec": {
      "name": "python3",
      "display_name": "Python 3"
    }
  },
  "cells": [
    {
      "cell_type": "markdown",
      "metadata": {
        "id": "view-in-github",
        "colab_type": "text"
      },
      "source": [
        "<a href=\"https://colab.research.google.com/github/BotenAqua/Rozszerzony-kurs-jezyka-Python/blob/master/Lista1.ipynb\" target=\"_parent\"><img src=\"https://colab.research.google.com/assets/colab-badge.svg\" alt=\"Open In Colab\"/></a>"
      ]
    },
    {
      "cell_type": "code",
      "metadata": {
        "id": "TxIzm4BL92Bn",
        "colab_type": "code",
        "colab": {
          "base_uri": "https://localhost:8080/",
          "height": 34
        },
        "outputId": "c239b905-9878-409a-bd54-5e5ab26240f7"
      },
      "source": [
        "#Zadanie 1\n",
        "\n",
        "def vat_faktura(lista):\n",
        "  return sum(lista) * 1.23\n",
        "\n",
        "def vat_paragon(lista):\n",
        "  for l,el in enumerate(lista):\n",
        "    lista[l] = el*1.23\n",
        "  return sum(lista)\n",
        "\n",
        "zakupy = [0.2, 0.5, 4.59, 6]\n",
        "\n",
        "print(vat_faktura(zakupy) == vat_paragon(zakupy))"
      ],
      "execution_count": 8,
      "outputs": [
        {
          "output_type": "stream",
          "text": [
            "True\n"
          ],
          "name": "stdout"
        }
      ]
    },
    {
      "cell_type": "code",
      "metadata": {
        "id": "afLP5m29Gfl8",
        "colab_type": "code",
        "colab": {
          "base_uri": "https://localhost:8080/",
          "height": 34
        },
        "outputId": "142cf3f2-50ba-4370-b1b2-40bf09a31cd7"
      },
      "source": [
        "#Zadanie 2\n",
        "\n",
        "def reszta(kwota):\n",
        "  r = []\n",
        "  monety = [20, 10, 5, 2, 1]\n",
        "  for m in monety:\n",
        "    ile = kwota // m\n",
        "    r.append([m, ile])\n",
        "    kwota -= ile*m\n",
        "  return r\n",
        "\n",
        "print(reszta(123))"
      ],
      "execution_count": 57,
      "outputs": [
        {
          "output_type": "stream",
          "text": [
            "[[20, 6], [10, 0], [5, 0], [2, 1], [1, 1]]\n"
          ],
          "name": "stdout"
        }
      ]
    },
    {
      "cell_type": "code",
      "metadata": {
        "id": "Zr6cQC56C8NA",
        "colab_type": "code",
        "colab": {
          "base_uri": "https://localhost:8080/",
          "height": 136
        },
        "outputId": "ddf2af24-f5d6-4529-d6cb-1a6be0d3906e"
      },
      "source": [
        "#Zadanie 3\n",
        "\n",
        "def romb(n):\n",
        "  n = 2*n-1\n",
        "  for i in range (1, n+1, 2):\n",
        "    print((i*\"*\").center(n))\n",
        "  for i in range(n-2, 0, -2):\n",
        "    print((i*\"*\").center(n))\n",
        "  return\n",
        "\n",
        "romb(4)"
      ],
      "execution_count": 51,
      "outputs": [
        {
          "output_type": "stream",
          "text": [
            "   *   \n",
            "  ***  \n",
            " ***** \n",
            "*******\n",
            " ***** \n",
            "  ***  \n",
            "   *   \n"
          ],
          "name": "stdout"
        }
      ]
    },
    {
      "cell_type": "code",
      "metadata": {
        "id": "cPlabkLMJNT0",
        "colab_type": "code",
        "colab": {}
      },
      "source": [
        "#Zadanie 4"
      ],
      "execution_count": 0,
      "outputs": []
    },
    {
      "cell_type": "code",
      "metadata": {
        "id": "5m9c9aj6JP-t",
        "colab_type": "code",
        "colab": {}
      },
      "source": [
        "#Zadanie 5"
      ],
      "execution_count": 0,
      "outputs": []
    },
    {
      "cell_type": "code",
      "metadata": {
        "id": "dfewZSsAJeg3",
        "colab_type": "code",
        "colab": {}
      },
      "source": [
        "#Zadanie 6"
      ],
      "execution_count": 0,
      "outputs": []
    }
  ]
}